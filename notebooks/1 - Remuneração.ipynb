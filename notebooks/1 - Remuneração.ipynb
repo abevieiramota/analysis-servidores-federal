{
 "cells": [
  {
   "cell_type": "code",
   "execution_count": 5,
   "metadata": {
    "collapsed": false
   },
   "outputs": [],
   "source": [
    "COLUMNS_REMUNERACAO = [u'REMUNERAÇÃO BÁSICA BRUTA (R$)',\n",
    "                                                    u'REMUNERAÇÃO BÁSICA BRUTA (U$)',\n",
    "                                                                  u'ABATE-TETO (R$)',\n",
    "                                                                  u'ABATE-TETO (U$)',\n",
    "                                                       u'GRATIFICAÇÃO NATALINA (R$)',\n",
    "                                                       u'GRATIFICAÇÃO NATALINA (U$)',\n",
    "                                         u'ABATE-TETO DA GRATIFICAÇÃO NATALINA (R$)',\n",
    "                                         u'ABATE-TETO DA GRATIFICAÇÃO NATALINA (U$)',\n",
    "                                                                      u'FÉRIAS (R$)',\n",
    "                                                                      u'FÉRIAS (U$)',\n",
    "                                               u'OUTRAS REMUNERAÇÕES EVENTUAIS (R$)',\n",
    "                                               u'OUTRAS REMUNERAÇÕES EVENTUAIS (U$)',\n",
    "                                                                        u'IRRF (R$)',\n",
    "                                                                        u'IRRF (U$)',\n",
    "                                                                    u'PSS/RPGS (R$)',\n",
    "                                                                    u'PSS/RPGS (U$)',\n",
    "                                                              u'PENSÃO MILITAR (R$)',\n",
    "                                                              u'PENSÃO MILITAR (U$)',\n",
    "                                                              u'FUNDO DE SAÚDE (R$)',\n",
    "                                                              u'FUNDO DE SAÚDE (U$)',\n",
    "                                                             u'DEMAIS DEDUÇÕES (R$)',\n",
    "                                                             u'DEMAIS DEDUÇÕES (U$)',\n",
    "                                      u'REMUNERAÇÃO APÓS DEDUÇÕES OBRIGATÓRIAS (R$)',\n",
    "                                      u'REMUNERAÇÃO APÓS DEDUÇÕES OBRIGATÓRIAS (U$)',\n",
    "         u'VERBAS INDENIZATÓRIAS REGISTRADAS EM SISTEMAS DE PESSOAL - CIVIL (R$)(*)',\n",
    "         u'VERBAS INDENIZATÓRIAS REGISTRADAS EM SISTEMAS DE PESSOAL - CIVIL (U$)(*)',\n",
    "       u'VERBAS INDENIZATÓRIAS REGISTRADAS EM SISTEMAS DE PESSOAL - MILITAR (R$)(*)',\n",
    "       u'VERBAS INDENIZATÓRIAS REGISTRADAS EM SISTEMAS DE PESSOAL - MILITAR (U$)(*)',\n",
    "                                           u'TOTAL DE VERBAS INDENIZATÓRIAS (R$)(*)',\n",
    "                                           u'TOTAL DE VERBAS INDENIZATÓRIAS (U$)(*)',]"
   ]
  },
  {
   "cell_type": "code",
   "execution_count": 6,
   "metadata": {
    "collapsed": true
   },
   "outputs": [],
   "source": [
    "import pandas as pd\n",
    "%matplotlib inline\n",
    "pd.options.display.max_columns = None\n",
    "pd.options.display.max_rows = None\n",
    "import codecs"
   ]
  },
  {
   "cell_type": "markdown",
   "metadata": {},
   "source": [
    "## remove null characters"
   ]
  },
  {
   "cell_type": "code",
   "execution_count": 7,
   "metadata": {
    "collapsed": true
   },
   "outputs": [],
   "source": [
    "def remove_null(filename):\n",
    "    \n",
    "    out_filename = 'out_' + filename\n",
    "    \n",
    "    f_in = codecs.open(filename, encoding='iso-8859-1')\n",
    "    f_out = codecs.open('out_' + filename, encoding='iso-8859-1', mode='w')\n",
    "    for line in f_in.readlines():\n",
    "        line_w_null = line.replace(u'\\x00', '')\n",
    "        f_out.write(line_w_null)\n",
    "    f_in.close()\n",
    "    f_out.close()\n",
    "    \n",
    "    return out_filename"
   ]
  },
  {
   "cell_type": "markdown",
   "metadata": {},
   "source": [
    "## Realizar download do arquivo de servidores em http://www.portaldatransparencia.gov.br/downloads/servidores.asp#getC e extrair na raiz deste projeto"
   ]
  },
  {
   "cell_type": "code",
   "execution_count": 8,
   "metadata": {
    "collapsed": false
   },
   "outputs": [
    {
     "name": "stdout",
     "output_type": "stream",
     "text": [
      " Volume in drive C has no label.\n",
      " Volume Serial Number is 02C5-7B14\n",
      "\n",
      " Directory of C:\\Users\\abevi\\Github\\analysis-servidores-federal\\notebooks\n",
      "\n",
      "12/11/2016  17:18    <DIR>          .\n",
      "12/11/2016  17:18    <DIR>          ..\n",
      "12/11/2016  17:18    <DIR>          .ipynb_checkpoints\n",
      "12/11/2016  17:15           185.935 1 - Remunera‡Æo.ipynb\n",
      "12/11/2016  17:18           185.935 1 - Remunera‡Æo-Copy1.ipynb\n",
      "12/11/2016  16:54            11.207 2 - Viagens.ipynb\n",
      "12/11/2016  16:58       382.539.699 20160930_Cadastro.csv\n",
      "12/11/2016  16:58       136.978.215 20160930_Remuneracao.csv\n",
      "12/11/2016  16:54            19.909 3 - Nomes similares.ipynb\n",
      "12/11/2016  17:01       373.613.272 out_20160930_Cadastro.csv\n",
      "12/11/2016  17:01       136.978.215 out_20160930_Remuneracao.csv\n",
      "               8 File(s)  1.030.512.387 bytes\n",
      "               3 Dir(s)   4.185.309.184 bytes free\n"
     ]
    }
   ],
   "source": [
    "ls"
   ]
  },
  {
   "cell_type": "markdown",
   "metadata": {},
   "source": [
    "## indicar o nome dos arquivos"
   ]
  },
  {
   "cell_type": "code",
   "execution_count": 9,
   "metadata": {
    "collapsed": false
   },
   "outputs": [],
   "source": [
    "cadastro_filename = '20160930_Cadastro.csv'\n",
    "remuneracao_filename = '20160930_Remuneracao.csv'"
   ]
  },
  {
   "cell_type": "markdown",
   "metadata": {},
   "source": [
    "## Selecionar servidores da UFC"
   ]
  },
  {
   "cell_type": "code",
   "execution_count": 10,
   "metadata": {
    "collapsed": false
   },
   "outputs": [],
   "source": [
    "out_cadastro_filename = remove_null(cadastro_filename)"
   ]
  },
  {
   "cell_type": "code",
   "execution_count": 36,
   "metadata": {
    "collapsed": false
   },
   "outputs": [
    {
     "name": "stderr",
     "output_type": "stream",
     "text": [
      "C:\\Users\\abevi\\Anaconda3\\lib\\site-packages\\IPython\\core\\interactiveshell.py:2717: DtypeWarning: Columns (10,12,23,25) have mixed types. Specify dtype option on import or set low_memory=False.\n",
      "  interactivity=interactivity, compiler=compiler, result=result)\n"
     ]
    }
   ],
   "source": [
    "cadastro = pd.read_csv(out_cadastro_filename, sep='\\t', encoding='iso-8859-1', decimal=',')\n",
    "cadastro_ufc = cadastro[cadastro[u'ORG_LOTACAO'] == u'UNIVERSIDADE FEDERAL DO CEARA']\n",
    "del cadastro"
   ]
  },
  {
   "cell_type": "markdown",
   "metadata": {},
   "source": [
    "## join com remuneração"
   ]
  },
  {
   "cell_type": "code",
   "execution_count": 80,
   "metadata": {
    "collapsed": true
   },
   "outputs": [],
   "source": [
    "out_remuneracao_filename = remove_null(remuneracao_filename)"
   ]
  },
  {
   "cell_type": "code",
   "execution_count": 81,
   "metadata": {
    "collapsed": true
   },
   "outputs": [],
   "source": [
    "remuneracao = pd.read_csv(remuneracao_filename, sep='\\t', encoding='iso-8859-1', decimal=',')"
   ]
  },
  {
   "cell_type": "code",
   "execution_count": 82,
   "metadata": {
    "collapsed": false
   },
   "outputs": [
    {
     "ename": "NameError",
     "evalue": "name 'cadastro_ufc' is not defined",
     "output_type": "error",
     "traceback": [
      "\u001b[0;31m---------------------------------------------------------------------------\u001b[0m",
      "\u001b[0;31mNameError\u001b[0m                                 Traceback (most recent call last)",
      "\u001b[0;32m<ipython-input-82-d4b31881965c>\u001b[0m in \u001b[0;36m<module>\u001b[0;34m()\u001b[0m\n\u001b[0;32m----> 1\u001b[0;31m \u001b[0mdf_ufc\u001b[0m \u001b[1;33m=\u001b[0m \u001b[0mpd\u001b[0m\u001b[1;33m.\u001b[0m\u001b[0mmerge\u001b[0m\u001b[1;33m(\u001b[0m\u001b[0mcadastro_ufc\u001b[0m\u001b[1;33m,\u001b[0m \u001b[0mremuneracao\u001b[0m\u001b[1;33m,\u001b[0m \u001b[0mleft_on\u001b[0m\u001b[1;33m=\u001b[0m\u001b[1;34mu'Id_SERVIDOR_PORTAL'\u001b[0m\u001b[1;33m,\u001b[0m \u001b[0mright_on\u001b[0m\u001b[1;33m=\u001b[0m\u001b[1;34mu'ID_SERVIDOR_PORTAL'\u001b[0m\u001b[1;33m)\u001b[0m\u001b[1;33m\u001b[0m\u001b[0m\n\u001b[0m",
      "\u001b[0;31mNameError\u001b[0m: name 'cadastro_ufc' is not defined"
     ]
    }
   ],
   "source": [
    "df_ufc = pd.merge(cadastro_ufc, remuneracao, left_on=u'Id_SERVIDOR_PORTAL', right_on=u'ID_SERVIDOR_PORTAL')"
   ]
  },
  {
   "cell_type": "code",
   "execution_count": null,
   "metadata": {
    "collapsed": false
   },
   "outputs": [],
   "source": [
    "len(df_ufc)"
   ]
  },
  {
   "cell_type": "code",
   "execution_count": null,
   "metadata": {
    "collapsed": false
   },
   "outputs": [],
   "source": [
    "del remuneracao\n",
    "del cadastro_ufc"
   ]
  },
  {
   "cell_type": "markdown",
   "metadata": {},
   "source": [
    "## remuneração bruta - top 10"
   ]
  },
  {
   "cell_type": "code",
   "execution_count": 22,
   "metadata": {
    "collapsed": false
   },
   "outputs": [
    {
     "data": {
      "text/html": [
       "<div>\n",
       "<table border=\"1\" class=\"dataframe\">\n",
       "  <thead>\n",
       "    <tr style=\"text-align: right;\">\n",
       "      <th></th>\n",
       "      <th>REMUNERAÇÃO BÁSICA BRUTA (R$)</th>\n",
       "      <th>NOME_x</th>\n",
       "      <th>DATA_INGRESSO_ORGAO</th>\n",
       "    </tr>\n",
       "  </thead>\n",
       "  <tbody>\n",
       "    <tr>\n",
       "      <th>1978</th>\n",
       "      <td>42605.09</td>\n",
       "      <td>LUIZ BOTELHO ALBUQUERQUE</td>\n",
       "      <td>22/05/2002</td>\n",
       "    </tr>\n",
       "    <tr>\n",
       "      <th>2037</th>\n",
       "      <td>40947.35</td>\n",
       "      <td>HENRY DE HOLANDA CAMPOS</td>\n",
       "      <td>22/05/1997</td>\n",
       "    </tr>\n",
       "    <tr>\n",
       "      <th>2039</th>\n",
       "      <td>40947.35</td>\n",
       "      <td>HENRY DE HOLANDA CAMPOS</td>\n",
       "      <td>30/07/1998</td>\n",
       "    </tr>\n",
       "    <tr>\n",
       "      <th>2038</th>\n",
       "      <td>40947.35</td>\n",
       "      <td>HENRY DE HOLANDA CAMPOS</td>\n",
       "      <td>30/07/1998</td>\n",
       "    </tr>\n",
       "    <tr>\n",
       "      <th>6463</th>\n",
       "      <td>40252.16</td>\n",
       "      <td>SEBASTIAO CARNEIRO DE ALMEIDA</td>\n",
       "      <td>25/03/2002</td>\n",
       "    </tr>\n",
       "    <tr>\n",
       "      <th>6462</th>\n",
       "      <td>40252.16</td>\n",
       "      <td>SEBASTIAO CARNEIRO DE ALMEIDA</td>\n",
       "      <td>01/04/1973</td>\n",
       "    </tr>\n",
       "    <tr>\n",
       "      <th>1928</th>\n",
       "      <td>39009.86</td>\n",
       "      <td>BOANERGES FREIRE DE AQUINO</td>\n",
       "      <td>01/01/1972</td>\n",
       "    </tr>\n",
       "    <tr>\n",
       "      <th>1929</th>\n",
       "      <td>39009.86</td>\n",
       "      <td>BOANERGES FREIRE DE AQUINO</td>\n",
       "      <td>16/07/1998</td>\n",
       "    </tr>\n",
       "    <tr>\n",
       "      <th>4091</th>\n",
       "      <td>38404.45</td>\n",
       "      <td>ROSALICE NOGUEIRA ANDRADE</td>\n",
       "      <td>01/08/1985</td>\n",
       "    </tr>\n",
       "    <tr>\n",
       "      <th>4090</th>\n",
       "      <td>38404.45</td>\n",
       "      <td>ROSALICE NOGUEIRA ANDRADE</td>\n",
       "      <td>11/03/2015</td>\n",
       "    </tr>\n",
       "  </tbody>\n",
       "</table>\n",
       "</div>"
      ],
      "text/plain": [
       "      REMUNERAÇÃO BÁSICA BRUTA (R$)                         NOME_x  \\\n",
       "1978                       42605.09       LUIZ BOTELHO ALBUQUERQUE   \n",
       "2037                       40947.35        HENRY DE HOLANDA CAMPOS   \n",
       "2039                       40947.35        HENRY DE HOLANDA CAMPOS   \n",
       "2038                       40947.35        HENRY DE HOLANDA CAMPOS   \n",
       "6463                       40252.16  SEBASTIAO CARNEIRO DE ALMEIDA   \n",
       "6462                       40252.16  SEBASTIAO CARNEIRO DE ALMEIDA   \n",
       "1928                       39009.86     BOANERGES FREIRE DE AQUINO   \n",
       "1929                       39009.86     BOANERGES FREIRE DE AQUINO   \n",
       "4091                       38404.45      ROSALICE NOGUEIRA ANDRADE   \n",
       "4090                       38404.45      ROSALICE NOGUEIRA ANDRADE   \n",
       "\n",
       "     DATA_INGRESSO_ORGAO  \n",
       "1978          22/05/2002  \n",
       "2037          22/05/1997  \n",
       "2039          30/07/1998  \n",
       "2038          30/07/1998  \n",
       "6463          25/03/2002  \n",
       "6462          01/04/1973  \n",
       "1928          01/01/1972  \n",
       "1929          16/07/1998  \n",
       "4091          01/08/1985  \n",
       "4090          11/03/2015  "
      ]
     },
     "execution_count": 22,
     "metadata": {},
     "output_type": "execute_result"
    }
   ],
   "source": [
    "df_ufc.sort_values(u'REMUNERAÇÃO BÁSICA BRUTA (R$)', ascending=False)[[u'REMUNERAÇÃO BÁSICA BRUTA (R$)', u'NOME_x', u'DATA_INGRESSO_ORGAO']].head(10)"
   ]
  },
  {
   "cell_type": "markdown",
   "metadata": {},
   "source": [
    "# Indenizatórias - top 10"
   ]
  },
  {
   "cell_type": "code",
   "execution_count": 21,
   "metadata": {
    "collapsed": false
   },
   "outputs": [
    {
     "data": {
      "text/html": [
       "<div>\n",
       "<table border=\"1\" class=\"dataframe\">\n",
       "  <thead>\n",
       "    <tr style=\"text-align: right;\">\n",
       "      <th></th>\n",
       "      <th>VERBAS INDENIZATÓRIAS REGISTRADAS EM SISTEMAS DE PESSOAL - CIVIL (R$)(*)</th>\n",
       "      <th>DESCRICAO_CARGO</th>\n",
       "      <th>NOME_x</th>\n",
       "      <th>DATA_INGRESSO_ORGAO</th>\n",
       "    </tr>\n",
       "  </thead>\n",
       "  <tbody>\n",
       "    <tr>\n",
       "      <th>4371</th>\n",
       "      <td>17864.62</td>\n",
       "      <td>PROFESSOR DO MAGISTERIO SUPERIOR</td>\n",
       "      <td>FABIANO SEIXAS FERNANDES</td>\n",
       "      <td>15/03/2010</td>\n",
       "    </tr>\n",
       "    <tr>\n",
       "      <th>2481</th>\n",
       "      <td>14621.98</td>\n",
       "      <td>PROFESSOR DO MAGISTERIO SUPERIOR</td>\n",
       "      <td>RENATA AQUINO RIBEIRO</td>\n",
       "      <td>19/03/2015</td>\n",
       "    </tr>\n",
       "    <tr>\n",
       "      <th>1480</th>\n",
       "      <td>13029.09</td>\n",
       "      <td>PROFESSOR 3 GRAU - VISITANTE</td>\n",
       "      <td>ALEKSANDR SIVATCKII</td>\n",
       "      <td>22/08/2012</td>\n",
       "    </tr>\n",
       "    <tr>\n",
       "      <th>306</th>\n",
       "      <td>12959.25</td>\n",
       "      <td>PROFESSOR DO MAGISTERIO SUPERIOR</td>\n",
       "      <td>LUCIANO MARI</td>\n",
       "      <td>18/03/2014</td>\n",
       "    </tr>\n",
       "    <tr>\n",
       "      <th>6356</th>\n",
       "      <td>12703.15</td>\n",
       "      <td>PROFESSOR 3 GRAU - VISITANTE</td>\n",
       "      <td>RAUL CRUZ IZQUIERDO</td>\n",
       "      <td>24/08/2012</td>\n",
       "    </tr>\n",
       "    <tr>\n",
       "      <th>2162</th>\n",
       "      <td>7356.99</td>\n",
       "      <td>PROFESSOR DO MAGISTERIO SUPERIOR</td>\n",
       "      <td>MICHEL MASCARENHAS SILVA</td>\n",
       "      <td>19/08/2011</td>\n",
       "    </tr>\n",
       "    <tr>\n",
       "      <th>2161</th>\n",
       "      <td>7356.99</td>\n",
       "      <td>NaN</td>\n",
       "      <td>MICHEL MASCARENHAS SILVA</td>\n",
       "      <td>19/08/2011</td>\n",
       "    </tr>\n",
       "    <tr>\n",
       "      <th>6294</th>\n",
       "      <td>5354.38</td>\n",
       "      <td>PROFESSOR DO MAGISTERIO SUPERIOR</td>\n",
       "      <td>ALEXANDRE BRAGA LIBORIO</td>\n",
       "      <td>26/09/2012</td>\n",
       "    </tr>\n",
       "    <tr>\n",
       "      <th>1158</th>\n",
       "      <td>5029.68</td>\n",
       "      <td>PROFESSOR MAGISTERIO SUPERIOR-SUBSTITUTO</td>\n",
       "      <td>KARLA KALINE FERREIRA LOPES</td>\n",
       "      <td>12/01/2015</td>\n",
       "    </tr>\n",
       "    <tr>\n",
       "      <th>1172</th>\n",
       "      <td>4319.74</td>\n",
       "      <td>PROFESSOR DO MAGISTERIO SUPERIOR</td>\n",
       "      <td>PRISCILLA BRANDAO SILVA</td>\n",
       "      <td>15/10/2015</td>\n",
       "    </tr>\n",
       "  </tbody>\n",
       "</table>\n",
       "</div>"
      ],
      "text/plain": [
       "      VERBAS INDENIZATÓRIAS REGISTRADAS EM SISTEMAS DE PESSOAL - CIVIL (R$)(*)  \\\n",
       "4371                                           17864.62                          \n",
       "2481                                           14621.98                          \n",
       "1480                                           13029.09                          \n",
       "306                                            12959.25                          \n",
       "6356                                           12703.15                          \n",
       "2162                                            7356.99                          \n",
       "2161                                            7356.99                          \n",
       "6294                                            5354.38                          \n",
       "1158                                            5029.68                          \n",
       "1172                                            4319.74                          \n",
       "\n",
       "                               DESCRICAO_CARGO                       NOME_x  \\\n",
       "4371          PROFESSOR DO MAGISTERIO SUPERIOR     FABIANO SEIXAS FERNANDES   \n",
       "2481          PROFESSOR DO MAGISTERIO SUPERIOR        RENATA AQUINO RIBEIRO   \n",
       "1480              PROFESSOR 3 GRAU - VISITANTE          ALEKSANDR SIVATCKII   \n",
       "306           PROFESSOR DO MAGISTERIO SUPERIOR                 LUCIANO MARI   \n",
       "6356              PROFESSOR 3 GRAU - VISITANTE          RAUL CRUZ IZQUIERDO   \n",
       "2162          PROFESSOR DO MAGISTERIO SUPERIOR     MICHEL MASCARENHAS SILVA   \n",
       "2161                                       NaN     MICHEL MASCARENHAS SILVA   \n",
       "6294          PROFESSOR DO MAGISTERIO SUPERIOR      ALEXANDRE BRAGA LIBORIO   \n",
       "1158  PROFESSOR MAGISTERIO SUPERIOR-SUBSTITUTO  KARLA KALINE FERREIRA LOPES   \n",
       "1172          PROFESSOR DO MAGISTERIO SUPERIOR      PRISCILLA BRANDAO SILVA   \n",
       "\n",
       "     DATA_INGRESSO_ORGAO  \n",
       "4371          15/03/2010  \n",
       "2481          19/03/2015  \n",
       "1480          22/08/2012  \n",
       "306           18/03/2014  \n",
       "6356          24/08/2012  \n",
       "2162          19/08/2011  \n",
       "2161          19/08/2011  \n",
       "6294          26/09/2012  \n",
       "1158          12/01/2015  \n",
       "1172          15/10/2015  "
      ]
     },
     "execution_count": 21,
     "metadata": {},
     "output_type": "execute_result"
    }
   ],
   "source": [
    "df_ufc.sort_values(u'VERBAS INDENIZATÓRIAS REGISTRADAS EM SISTEMAS DE PESSOAL - CIVIL (R$)(*)', ascending=False)[[u'VERBAS INDENIZATÓRIAS REGISTRADAS EM SISTEMAS DE PESSOAL - CIVIL (R$)(*)', u'DESCRICAO_CARGO', u'NOME_x', u'DATA_INGRESSO_ORGAO']].head(10)"
   ]
  },
  {
   "cell_type": "code",
   "execution_count": null,
   "metadata": {
    "collapsed": false
   },
   "outputs": [],
   "source": [
    "df_ufc.loc[df_ufc.SIGLA_FUNCAO.isnull(), ['SIGLA_FUNCAO']] = 'SEM_FUNCAO'"
   ]
  },
  {
   "cell_type": "code",
   "execution_count": null,
   "metadata": {
    "collapsed": false
   },
   "outputs": [],
   "source": [
    "df_ufc['FUNCAO'] = df_ufc.apply(lambda r: '%s:%s' % (r.SIGLA_FUNCAO, r.NIVEL_FUNCAO), axis=1)"
   ]
  },
  {
   "cell_type": "code",
   "execution_count": 83,
   "metadata": {
    "collapsed": false
   },
   "outputs": [],
   "source": [
    "gb_funcao = df_ufc.groupby(['UORG_LOTACAO', 'FUNCAO']).size()"
   ]
  },
  {
   "cell_type": "code",
   "execution_count": 84,
   "metadata": {
    "collapsed": false
   },
   "outputs": [],
   "source": [
    "tabelao = gb_funcao.unstack().fillna(0)"
   ]
  },
  {
   "cell_type": "code",
   "execution_count": 67,
   "metadata": {
    "collapsed": false
   },
   "outputs": [],
   "source": [
    "# remove dos SEM_FUNCAO os que ja tem função -> ocorre que a base informa um registro por vínculo do servidor\n",
    "# quem tem função, aparece 2 vezes, uma na função e outra na SEM_FUNCAO\n",
    "tabelao.loc[:, 'SEM_FUNCAO:nan'] = tabelao['SEM_FUNCAO:nan'] - tabelao.loc[:, tabelao.columns[:-1]].sum(axis=1)"
   ]
  },
  {
   "cell_type": "code",
   "execution_count": 86,
   "metadata": {
    "collapsed": false
   },
   "outputs": [],
   "source": [
    "tabelao['Distribuicao Geral'] = tabelao.loc[:, tabelao.columns[:-1]].sum(axis=1) / tabelao"
   ]
  },
  {
   "cell_type": "code",
   "execution_count": null,
   "metadata": {
    "collapsed": true
   },
   "outputs": [],
   "source": [
    "tabelao['QTD FG/CD'] = tabelao.loc[:, tabelao.columns[:-1]].sum(axis=1)"
   ]
  },
  {
   "cell_type": "code",
   "execution_count": 87,
   "metadata": {
    "collapsed": true
   },
   "outputs": [],
   "source": [
    "cols = tabelao.columns.tolist()"
   ]
  },
  {
   "cell_type": "code",
   "execution_count": 88,
   "metadata": {
    "collapsed": false
   },
   "outputs": [],
   "source": [
    "cols = cols[-2:] + cols[:-2]"
   ]
  },
  {
   "cell_type": "code",
   "execution_count": 89,
   "metadata": {
    "collapsed": true
   },
   "outputs": [],
   "source": [
    "tabelao.sort_values('Distribuicao Geral', ascending=False)[cols].to_csv('olhae_leonanrdo.csv')"
   ]
  },
  {
   "cell_type": "code",
   "execution_count": null,
   "metadata": {
    "collapsed": true
   },
   "outputs": [],
   "source": []
  }
 ],
 "metadata": {
  "anaconda-cloud": {},
  "kernelspec": {
   "display_name": "Python [default]",
   "language": "python",
   "name": "python3"
  },
  "language_info": {
   "codemirror_mode": {
    "name": "ipython",
    "version": 3
   },
   "file_extension": ".py",
   "mimetype": "text/x-python",
   "name": "python",
   "nbconvert_exporter": "python",
   "pygments_lexer": "ipython3",
   "version": "3.5.2"
  }
 },
 "nbformat": 4,
 "nbformat_minor": 0
}

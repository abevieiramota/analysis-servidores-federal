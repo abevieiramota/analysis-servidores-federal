{
 "cells": [
  {
   "cell_type": "code",
   "execution_count": 1,
   "metadata": {
    "collapsed": true
   },
   "outputs": [],
   "source": [
    "import pandas as pd\n",
    "%matplotlib inline\n",
    "pd.options.display.max_columns = None\n",
    "import codecs"
   ]
  },
  {
   "cell_type": "code",
   "execution_count": 2,
   "metadata": {
    "collapsed": true
   },
   "outputs": [],
   "source": [
    "def remove_null(filename):\n",
    "    \n",
    "    out_filename = 'out_' + filename\n",
    "    \n",
    "    f_in = codecs.open(filename, encoding='iso-8859-1')\n",
    "    f_out = codecs.open('out_' + filename, encoding='iso-8859-1', mode='w')\n",
    "    for line in f_in.readlines():\n",
    "        line_w_null = line.replace(u'\\x00', '')\n",
    "        f_out.write(line_w_null)\n",
    "    f_in.close()\n",
    "    f_out.close()\n",
    "    \n",
    "    return out_filename"
   ]
  },
  {
   "cell_type": "code",
   "execution_count": 4,
   "metadata": {
    "collapsed": true
   },
   "outputs": [],
   "source": [
    "viagens_filename = \"201601_Diarias.csv\""
   ]
  },
  {
   "cell_type": "code",
   "execution_count": 5,
   "metadata": {
    "collapsed": true
   },
   "outputs": [],
   "source": [
    "out_viagens_filename = remove_null(viagens_filename)"
   ]
  },
  {
   "cell_type": "code",
   "execution_count": 14,
   "metadata": {
    "collapsed": false
   },
   "outputs": [],
   "source": [
    "viagens = pd.read_csv(out_viagens_filename, sep='\\t', encoding='iso-8859-1', decimal=',')\n",
    "viagens_ufc = viagens[viagens[u'Nome Órgão Subordinado'] == u'UNIVERSIDADE FEDERAL DO CEARA']\n",
    "del viagens"
   ]
  },
  {
   "cell_type": "code",
   "execution_count": 18,
   "metadata": {
    "collapsed": false
   },
   "outputs": [
    {
     "data": {
      "text/plain": [
       "Index([   u'Código Órgão Superior',      u'Nome Órgão Superior',\n",
       "       u'Código Órgão Subordinado',   u'Nome Órgão Subordinado',\n",
       "         u'Código Unidade Gestora',     u'Nome Unidade Gestora',\n",
       "                  u'Código Função',              u'Nome Função',\n",
       "               u'Código Subfunção',            u'Nome Subunção',\n",
       "                u'Código Programa',            u'Nome Programa',\n",
       "                    u'Código Ação',                u'Nome Ação',\n",
       "               u'Linguagem Cidadã',           u'CPF Favorecido',\n",
       "                u'Nome Favorecido',      u'Documento Pagamento',\n",
       "               u'Gestão Pagamento',           u'Data Pagamento',\n",
       "                u'Valor Pagamento'],\n",
       "      dtype='object')"
      ]
     },
     "execution_count": 18,
     "metadata": {},
     "output_type": "execute_result"
    }
   ],
   "source": [
    "viagens_ufc.columns"
   ]
  },
  {
   "cell_type": "code",
   "execution_count": 20,
   "metadata": {
    "collapsed": false
   },
   "outputs": [
    {
     "data": {
      "text/html": [
       "<div>\n",
       "<table border=\"1\" class=\"dataframe\">\n",
       "  <thead>\n",
       "    <tr style=\"text-align: right;\">\n",
       "      <th></th>\n",
       "      <th>Valor Pagamento</th>\n",
       "      <th>Nome Favorecido</th>\n",
       "      <th>Documento Pagamento</th>\n",
       "    </tr>\n",
       "  </thead>\n",
       "  <tbody>\n",
       "    <tr>\n",
       "      <th>5029</th>\n",
       "      <td>1064.10</td>\n",
       "      <td>ANTONIO FRANCISCO GOMES FURTADO FILHO</td>\n",
       "      <td>2016OB800918</td>\n",
       "    </tr>\n",
       "    <tr>\n",
       "      <th>5027</th>\n",
       "      <td>1064.10</td>\n",
       "      <td>ANTONIA FABIANA MARQUES ALMEIDA</td>\n",
       "      <td>2016OB800917</td>\n",
       "    </tr>\n",
       "    <tr>\n",
       "      <th>5002</th>\n",
       "      <td>1064.10</td>\n",
       "      <td>LUISA GARDENIA ALVES TOME FARIAS</td>\n",
       "      <td>2016OB800894</td>\n",
       "    </tr>\n",
       "    <tr>\n",
       "      <th>5031</th>\n",
       "      <td>1046.40</td>\n",
       "      <td>MARIA CRISTINA DE FIGUEIREDO MONTEIRO</td>\n",
       "      <td>2016OB800926</td>\n",
       "    </tr>\n",
       "    <tr>\n",
       "      <th>5018</th>\n",
       "      <td>1046.40</td>\n",
       "      <td>MARIA VALDECI COSME DE LACERDA SOUZA</td>\n",
       "      <td>2016OB800927</td>\n",
       "    </tr>\n",
       "    <tr>\n",
       "      <th>5016</th>\n",
       "      <td>1046.40</td>\n",
       "      <td>FRANCISCA LIVIA DE OLIVEIRA MACHADO</td>\n",
       "      <td>2016OB800920</td>\n",
       "    </tr>\n",
       "    <tr>\n",
       "      <th>5015</th>\n",
       "      <td>1019.65</td>\n",
       "      <td>AMARILDO MAIA ROLIM FILHO</td>\n",
       "      <td>2016OB800916</td>\n",
       "    </tr>\n",
       "    <tr>\n",
       "      <th>5026</th>\n",
       "      <td>872.52</td>\n",
       "      <td>RENNAN FERREIRA DANTAS</td>\n",
       "      <td>2016OB800899</td>\n",
       "    </tr>\n",
       "    <tr>\n",
       "      <th>5032</th>\n",
       "      <td>680.94</td>\n",
       "      <td>PABLO LUIZ BRAGA SOARES</td>\n",
       "      <td>2016OB800898</td>\n",
       "    </tr>\n",
       "    <tr>\n",
       "      <th>5024</th>\n",
       "      <td>660.12</td>\n",
       "      <td>GIANNINI ITALINO ALVES VIEIRA</td>\n",
       "      <td>2016OB800923</td>\n",
       "    </tr>\n",
       "    <tr>\n",
       "      <th>5004</th>\n",
       "      <td>568.65</td>\n",
       "      <td>CATIA LUZIA OLIVEIRA DA SILVA</td>\n",
       "      <td>2016OB800945</td>\n",
       "    </tr>\n",
       "    <tr>\n",
       "      <th>5017</th>\n",
       "      <td>557.04</td>\n",
       "      <td>ANDREA PINHEIRO PAIVA CAVALCANTE</td>\n",
       "      <td>2016OB800944</td>\n",
       "    </tr>\n",
       "    <tr>\n",
       "      <th>5013</th>\n",
       "      <td>380.04</td>\n",
       "      <td>FRANCISCO BARBOSA DE LIMA</td>\n",
       "      <td>2016OB800921</td>\n",
       "    </tr>\n",
       "    <tr>\n",
       "      <th>4999</th>\n",
       "      <td>380.04</td>\n",
       "      <td>ARLINDO MOREIRA BARRETO</td>\n",
       "      <td>2016OB801041</td>\n",
       "    </tr>\n",
       "    <tr>\n",
       "      <th>5001</th>\n",
       "      <td>339.06</td>\n",
       "      <td>ANDREIA LIBORIO SAMPAIO</td>\n",
       "      <td>2016OB800889</td>\n",
       "    </tr>\n",
       "    <tr>\n",
       "      <th>4996</th>\n",
       "      <td>339.06</td>\n",
       "      <td>FRANCISCO KENNEDY MOREIRA VASCONCELOS</td>\n",
       "      <td>2016OB800993</td>\n",
       "    </tr>\n",
       "    <tr>\n",
       "      <th>5010</th>\n",
       "      <td>276.96</td>\n",
       "      <td>ALINE PINHO MENEZES</td>\n",
       "      <td>2016OB800888</td>\n",
       "    </tr>\n",
       "    <tr>\n",
       "      <th>5007</th>\n",
       "      <td>275.61</td>\n",
       "      <td>BERNADETE DE SOUZA PORTO</td>\n",
       "      <td>2016OB800919</td>\n",
       "    </tr>\n",
       "    <tr>\n",
       "      <th>5023</th>\n",
       "      <td>275.61</td>\n",
       "      <td>MARIA ELIAS SOARES</td>\n",
       "      <td>2016OB800897</td>\n",
       "    </tr>\n",
       "    <tr>\n",
       "      <th>5022</th>\n",
       "      <td>275.61</td>\n",
       "      <td>MARIA ELIAS SOARES</td>\n",
       "      <td>2016OB800896</td>\n",
       "    </tr>\n",
       "  </tbody>\n",
       "</table>\n",
       "</div>"
      ],
      "text/plain": [
       "      Valor Pagamento                        Nome Favorecido  \\\n",
       "5029          1064.10  ANTONIO FRANCISCO GOMES FURTADO FILHO   \n",
       "5027          1064.10        ANTONIA FABIANA MARQUES ALMEIDA   \n",
       "5002          1064.10       LUISA GARDENIA ALVES TOME FARIAS   \n",
       "5031          1046.40  MARIA CRISTINA DE FIGUEIREDO MONTEIRO   \n",
       "5018          1046.40   MARIA VALDECI COSME DE LACERDA SOUZA   \n",
       "5016          1046.40    FRANCISCA LIVIA DE OLIVEIRA MACHADO   \n",
       "5015          1019.65              AMARILDO MAIA ROLIM FILHO   \n",
       "5026           872.52                 RENNAN FERREIRA DANTAS   \n",
       "5032           680.94                PABLO LUIZ BRAGA SOARES   \n",
       "5024           660.12          GIANNINI ITALINO ALVES VIEIRA   \n",
       "5004           568.65          CATIA LUZIA OLIVEIRA DA SILVA   \n",
       "5017           557.04       ANDREA PINHEIRO PAIVA CAVALCANTE   \n",
       "5013           380.04              FRANCISCO BARBOSA DE LIMA   \n",
       "4999           380.04                ARLINDO MOREIRA BARRETO   \n",
       "5001           339.06                ANDREIA LIBORIO SAMPAIO   \n",
       "4996           339.06  FRANCISCO KENNEDY MOREIRA VASCONCELOS   \n",
       "5010           276.96                    ALINE PINHO MENEZES   \n",
       "5007           275.61               BERNADETE DE SOUZA PORTO   \n",
       "5023           275.61                     MARIA ELIAS SOARES   \n",
       "5022           275.61                     MARIA ELIAS SOARES   \n",
       "\n",
       "     Documento Pagamento  \n",
       "5029        2016OB800918  \n",
       "5027        2016OB800917  \n",
       "5002        2016OB800894  \n",
       "5031        2016OB800926  \n",
       "5018        2016OB800927  \n",
       "5016        2016OB800920  \n",
       "5015        2016OB800916  \n",
       "5026        2016OB800899  \n",
       "5032        2016OB800898  \n",
       "5024        2016OB800923  \n",
       "5004        2016OB800945  \n",
       "5017        2016OB800944  \n",
       "5013        2016OB800921  \n",
       "4999        2016OB801041  \n",
       "5001        2016OB800889  \n",
       "4996        2016OB800993  \n",
       "5010        2016OB800888  \n",
       "5007        2016OB800919  \n",
       "5023        2016OB800897  \n",
       "5022        2016OB800896  "
      ]
     },
     "execution_count": 20,
     "metadata": {},
     "output_type": "execute_result"
    }
   ],
   "source": [
    "viagens_ufc.sort(u'Valor Pagamento', ascending=False)[[u'Valor Pagamento', u'Nome Favorecido', u'Documento Pagamento']].head(20)"
   ]
  },
  {
   "cell_type": "code",
   "execution_count": null,
   "metadata": {
    "collapsed": true
   },
   "outputs": [],
   "source": []
  }
 ],
 "metadata": {
  "kernelspec": {
   "display_name": "Python 2",
   "language": "python",
   "name": "python2"
  },
  "language_info": {
   "codemirror_mode": {
    "name": "ipython",
    "version": 2
   },
   "file_extension": ".py",
   "mimetype": "text/x-python",
   "name": "python",
   "nbconvert_exporter": "python",
   "pygments_lexer": "ipython2",
   "version": "2.7.11"
  }
 },
 "nbformat": 4,
 "nbformat_minor": 0
}
